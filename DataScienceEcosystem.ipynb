{
 "cells": [
  {
   "cell_type": "markdown",
   "id": "d85f04e0-e443-4345-88be-5f1a9b1be5e4",
   "metadata": {},
   "source": [
    "# Data Science Tools and Ecosystem"
   ]
  },
  {
   "cell_type": "markdown",
   "id": "1053a085-23dc-4f57-8a0e-7cd788b950e3",
   "metadata": {},
   "source": [
    "*In this notebook, Data Science Tools and Ecosystem are summarized.*"
   ]
  },
  {
   "cell_type": "markdown",
   "id": "1e3ac508-c700-4ee0-8ba9-cc5649b6ec8a",
   "metadata": {},
   "source": [
    "## Some of the popular langauges that Data Scientists use are:\n",
    "- Pyhton\n",
    "- R \n",
    "- SQL\n",
    "- Scala"
   ]
  },
  {
   "cell_type": "markdown",
   "id": "bff13799-e736-4136-b917-fcd16508fa5d",
   "metadata": {},
   "source": [
    "## Some of the common libraries used by Data Scientist include:\n",
    "- NumPy\n",
    "- Pandas\n",
    "- TensorFlow\n",
    "- Keras\n",
    "- PyTourch"
   ]
  },
  {
   "cell_type": "markdown",
   "id": "4ad148fd-b7c8-441a-8878-81e0383233d7",
   "metadata": {
    "tags": []
   },
   "source": [
    "| Data Science Tools |\n",
    "| ------------------- |\n",
    "| Jupyter Notebook |\n",
    "| RStudio |\n",
    "| Visual Studio Code |\n",
    "\n"
   ]
  },
  {
   "cell_type": "markdown",
   "id": "3ce2d050-12a3-424f-b171-6fa9e9fcbd28",
   "metadata": {},
   "source": [
    "### Below are a few examples of evaluating arithimetic expressions in Python."
   ]
  },
  {
   "cell_type": "code",
   "execution_count": 5,
   "id": "95d3fa97-ab2a-402f-a908-753eed6abd63",
   "metadata": {
    "tags": []
   },
   "outputs": [
    {
     "data": {
      "text/plain": [
       "87"
      ]
     },
     "execution_count": 5,
     "metadata": {},
     "output_type": "execute_result"
    }
   ],
   "source": [
    "#This is an arithmetic to multiply and add.\n",
    "(2*40) + 7"
   ]
  },
  {
   "cell_type": "code",
   "execution_count": 6,
   "id": "c2ff5783-9540-4d3d-92e1-fa08b740263d",
   "metadata": {
    "tags": []
   },
   "outputs": [
    {
     "name": "stdout",
     "output_type": "stream",
     "text": [
      "200 minutes is equal to 3.33 hours\n"
     ]
    }
   ],
   "source": [
    "# Enter the number of minutes to convert\n",
    "minutes = 200\n",
    "\n",
    "# Convert minutes to hours\n",
    "hours = minutes / 60\n",
    "\n",
    "# Print the result\n",
    "print(f\"{minutes} minutes is equal to {hours:.2f} hours\")\n"
   ]
  },
  {
   "cell_type": "markdown",
   "id": "3f9107bc-572b-40df-97c2-8178a2115304",
   "metadata": {},
   "source": [
    "# Objectives:\n",
    "- List the most languages used by data scientist.\n",
    "- Understanding execution of a simple arithmetic.\n",
    "- list the common data science libraries."
   ]
  },
  {
   "cell_type": "markdown",
   "id": "a5ae755d-9b0e-4545-bb7b-468b6f09aeb7",
   "metadata": {},
   "source": [
    "## Author\n",
    "Divine Bhebe"
   ]
  },
  {
   "cell_type": "code",
   "execution_count": null,
   "id": "8160f036-2f12-403d-8148-6954c1af5537",
   "metadata": {},
   "outputs": [],
   "source": []
  }
 ],
 "metadata": {
  "kernelspec": {
   "display_name": "Python 3 (ipykernel)",
   "language": "python",
   "name": "python3"
  },
  "language_info": {
   "codemirror_mode": {
    "name": "ipython",
    "version": 3
   },
   "file_extension": ".py",
   "mimetype": "text/x-python",
   "name": "python",
   "nbconvert_exporter": "python",
   "pygments_lexer": "ipython3",
   "version": "3.11.1"
  }
 },
 "nbformat": 4,
 "nbformat_minor": 5
}
